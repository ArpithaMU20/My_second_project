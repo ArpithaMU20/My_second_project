{
 "cells": [
  {
   "cell_type": "code",
   "execution_count": 12,
   "metadata": {},
   "outputs": [
    {
     "name": "stdin",
     "output_type": "stream",
     "text": [
      "enter any number 15\n"
     ]
    },
    {
     "name": "stdout",
     "output_type": "stream",
     "text": [
      "number is odd\n"
     ]
    }
   ],
   "source": [
    "# Write a program to find given number is odd or even \n",
    "#x = 45\n",
    "x=int(input(\"enter any number\"))\n",
    "if x%2==0:\n",
    "  print(\"number is even\")\n",
    "else:\n",
    "  print(\"number is odd\")\n",
    "\n",
    "\n",
    "\n",
    "\n",
    "\n",
    "\n",
    "\n",
    "\n"
   ]
  },
  {
   "cell_type": "code",
   "execution_count": 15,
   "metadata": {},
   "outputs": [
    {
     "name": "stdin",
     "output_type": "stream",
     "text": [
      "enter the age:  2\n"
     ]
    },
    {
     "name": "stdout",
     "output_type": "stream",
     "text": [
      "you cannot vote\n"
     ]
    }
   ],
   "source": [
    "# Write a program to print \"You can Vote\" or \"You Cannot Vote\n",
    "\n",
    "x=int(input(\"enter the age: \"))\n",
    "if x<18:\n",
    "  print(\"you cannot vote\")\n",
    "else:\n",
    "  print(\"you can vote\")      \n",
    "      \n",
    "\n",
    "\n",
    "\n",
    "\n",
    "\n"
   ]
  },
  {
   "cell_type": "code",
   "execution_count": 22,
   "metadata": {},
   "outputs": [
    {
     "name": "stdin",
     "output_type": "stream",
     "text": [
      "enter first num 200\n",
      "enter second num 300\n",
      "enter third num 500\n"
     ]
    },
    {
     "name": "stdout",
     "output_type": "stream",
     "text": [
      "c is greater\n"
     ]
    }
   ],
   "source": [
    "# Write a program to find greatest of three numbers\n",
    "a=int(input(\"enter first num\"))\n",
    "b=int(input(\"enter second num\"))\n",
    "c=int(input(\"enter third num\"))\n",
    "if(a<b|b<c):\n",
    "  print(\"c is greater\")\n",
    "else:\n",
    "  print(\"c is not greater\")\n",
    "\n",
    "\n",
    "\n",
    "\n",
    "\n"
   ]
  },
  {
   "cell_type": "code",
   "execution_count": 28,
   "metadata": {},
   "outputs": [
    {
     "name": "stdin",
     "output_type": "stream",
     "text": [
      "enter first number 40\n",
      "enter second number 499\n"
     ]
    },
    {
     "name": "stdout",
     "output_type": "stream",
     "text": [
      "great\n"
     ]
    }
   ],
   "source": [
    "#Write a program to print \"Super\" if the sum of number is \"less\" than 1000 and \"great\" if the sum of number is greater than 1000\n",
    "\n",
    "a=int(input(\"enter first number\"))\n",
    "b=int(input(\"enter second number\"))    \n",
    "if a+b==1000:\n",
    " print(\"super\")\n",
    "else:\n",
    " print(\"great\")"
   ]
  },
  {
   "cell_type": "code",
   "execution_count": null,
   "metadata": {},
   "outputs": [],
   "source": []
  },
  {
   "cell_type": "code",
   "execution_count": null,
   "metadata": {},
   "outputs": [],
   "source": []
  }
 ],
 "metadata": {
  "kernelspec": {
   "display_name": "Python [conda env:base] *",
   "language": "python",
   "name": "conda-base-py"
  },
  "language_info": {
   "codemirror_mode": {
    "name": "ipython",
    "version": 3
   },
   "file_extension": ".py",
   "mimetype": "text/x-python",
   "name": "python",
   "nbconvert_exporter": "python",
   "pygments_lexer": "ipython3",
   "version": "3.12.7"
  }
 },
 "nbformat": 4,
 "nbformat_minor": 4
}
