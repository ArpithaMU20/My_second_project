{
 "cells": [
  {
   "cell_type": "code",
   "execution_count": 1,
   "metadata": {},
   "outputs": [],
   "source": [
    "# Write a function to hours to minutes , user should able to give hours as input\n",
    "\n",
    "# your Answer\n",
    "\n",
    "def hrstominscalc(x):\n",
    "    y = x*2\n",
    "    print(x,\"hours equals to\",y,\"minutes\")"
   ]
  },
  {
   "cell_type": "code",
   "execution_count": 2,
   "metadata": {},
   "outputs": [
    {
     "name": "stdout",
     "output_type": "stream",
     "text": [
      "2 hours equals to 4 minutes\n"
     ]
    }
   ],
   "source": [
    "hrstominscalc(2)"
   ]
  },
  {
   "cell_type": "code",
   "execution_count": 29,
   "metadata": {},
   "outputs": [
    {
     "name": "stdin",
     "output_type": "stream",
     "text": [
      "Enter the length in centimeters:  10\n"
     ]
    },
    {
     "name": "stdout",
     "output_type": "stream",
     "text": [
      "centimeters is equal to 0.1 meters\n"
     ]
    }
   ],
   "source": [
    "# Write a function to convert centimeter to meter , user shoulb be able to give centimeter as input\n",
    "\n",
    "def cm_to_meter(cm):\n",
    "    meter = cm / 100\n",
    "    return meter\n",
    "\n",
    "cm = float(input(\"Enter the  centimeters: \"))\n",
    "result = cm_to_meter(cm)\n",
    "print(\"centimeters is equal to\",result, \"meters\")\n",
    "\n",
    "\n",
    "\n",
    "\n",
    "\n",
    "\n",
    "\n"
   ]
  },
  {
   "cell_type": "code",
   "execution_count": 30,
   "metadata": {},
   "outputs": [
    {
     "name": "stdin",
     "output_type": "stream",
     "text": [
      "Enter the distance in miles:  10\n"
     ]
    },
    {
     "name": "stdout",
     "output_type": "stream",
     "text": [
      "miles is equal to 16.0934 kilometers.\n"
     ]
    }
   ],
   "source": [
    "# Write a function to convert miles to Kilometer , user shoulb be able to give miles as input\n",
    "\n",
    "def miles_to_km(miles):\n",
    "    km = miles * 1.60934\n",
    "    return km\n",
    "\n",
    "miles = float(input(\"Enter the distance in miles: \"))\n",
    "result = miles_to_km(miles)\n",
    "print(\"miles is equal to\", result,\"kilometers.\")\n",
    "\n",
    "\n",
    "\n",
    "\n",
    "\n",
    "\n"
   ]
  },
  {
   "cell_type": "code",
   "execution_count": 28,
   "metadata": {},
   "outputs": [
    {
     "name": "stdin",
     "output_type": "stream",
     "text": [
      "enter principal: 555555\n",
      "enter no of years: 8\n",
      "enter rate of interest: 3\n"
     ]
    },
    {
     "name": "stdout",
     "output_type": "stream",
     "text": [
      "simple interset 133333.2\n"
     ]
    }
   ],
   "source": [
    "# Write a function to calculate simple interest # all input shoulb be given by the user\n",
    "\n",
    "a=int(input('enter principal:'))\n",
    "b=int(input('enter no of years:'))\n",
    "c=int(input('enter rate of interest:'))\n",
    "def simple_interest(a,b,c):\n",
    "    si=(a*b*c)/100\n",
    "    return si\n",
    "interst=simple_interest(a,b,c)\n",
    "print(\"simple interset\",interst)\n",
    "    \n",
    "\n",
    "\n",
    "\n",
    "\n",
    "\n",
    "\n",
    "\n"
   ]
  },
  {
   "cell_type": "code",
   "execution_count": 21,
   "metadata": {},
   "outputs": [
    {
     "name": "stdin",
     "output_type": "stream",
     "text": [
      "Enter the radius:  5\n"
     ]
    },
    {
     "name": "stdout",
     "output_type": "stream",
     "text": [
      "area of the circle 78.53975\n"
     ]
    }
   ],
   "source": [
    "# Write a function to calculate area of circle\n",
    "def area_of_circle(radius):\n",
    "    area=3.14159*radius**2\n",
    "    return area\n",
    "\n",
    "radius= float(input(\"Enter the radius: \"))\n",
    "area = area_of_circle(radius)\n",
    "print(\"area of the circle\",area)\n",
    "\n",
    "\n",
    "\n",
    "\n",
    "\n",
    "\n",
    "\n"
   ]
  },
  {
   "cell_type": "code",
   "execution_count": 22,
   "metadata": {},
   "outputs": [
    {
     "name": "stdin",
     "output_type": "stream",
     "text": [
      "Enter the radius:  5\n"
     ]
    },
    {
     "name": "stdout",
     "output_type": "stream",
     "text": [
      "circumference of circle 31.4159\n"
     ]
    }
   ],
   "source": [
    "# Write a function to calculate circumference of circle\n",
    "def circum_cir(radius):\n",
    "    circumference=2*3.14159*radius\n",
    "    return circumference\n",
    "radius= float(input(\"Enter the radius: \"))\n",
    "circumference= circum_cir(radius)\n",
    "print(\"circumference of circle\",circumference)\n",
    "    \n",
    "\n",
    "\n",
    "\n",
    "\n",
    "\n",
    "\n",
    "\n"
   ]
  },
  {
   "cell_type": "code",
   "execution_count": 14,
   "metadata": {},
   "outputs": [
    {
     "name": "stdin",
     "output_type": "stream",
     "text": [
      "Enter the base of the triangle:  8\n"
     ]
    },
    {
     "name": "stdout",
     "output_type": "stream",
     "text": [
      "perimeter of the square 32.0\n"
     ]
    }
   ],
   "source": [
    "# Write a function to calculate perimeter of square\n",
    "def peri_of_square(side):\n",
    "    perimeter=4*side\n",
    "    return perimeter\n",
    "side= float(input(\"Enter the length: \"))\n",
    "area = peri_of_square(side)\n",
    "print(\"perimeter of the square\",area)   \n",
    "\n",
    "\n",
    "\n",
    "\n",
    "\n",
    "\n",
    "\n"
   ]
  },
  {
   "cell_type": "code",
   "execution_count": 13,
   "metadata": {},
   "outputs": [
    {
     "name": "stdin",
     "output_type": "stream",
     "text": [
      "Enter the base of the triangle:  5\n"
     ]
    },
    {
     "name": "stdout",
     "output_type": "stream",
     "text": [
      "area of the square 25.0\n"
     ]
    }
   ],
   "source": [
    "# Write a fucntion to calculate area of square\n",
    "def area_of_square(side):\n",
    "   area=side*side\n",
    "   return area\n",
    "\n",
    "side= float(input(\"Enter the length: \"))\n",
    "area = area_of_square(side)\n",
    "print(\"area of the square\",area)\n",
    "\n",
    "\n",
    "\n",
    "\n",
    "\n",
    "\n",
    "\n",
    "\n"
   ]
  },
  {
   "cell_type": "code",
   "execution_count": 7,
   "metadata": {},
   "outputs": [
    {
     "name": "stdin",
     "output_type": "stream",
     "text": [
      "Enter the base of the triangle:  11\n",
      "Enter the height of the triangle:  111\n"
     ]
    },
    {
     "name": "stdout",
     "output_type": "stream",
     "text": [
      "area_of_triangle 610.5\n"
     ]
    }
   ],
   "source": [
    "# Write a function to area of traingle\n",
    "def area_of_triangle(base, height):\n",
    "    area = 0.5 * base * height\n",
    "    return area\n",
    "\n",
    "\n",
    "base = float(input(\"Enter the base of the triangle: \"))\n",
    "height = float(input(\"Enter the height of the triangle: \"))\n",
    "\n",
    "\n",
    "area = area_of_triangle(base, height)\n",
    "print(\"area_of_triangle\",area)\n",
    "\n",
    "\n",
    "\n",
    "\n",
    "\n",
    "\n",
    "\n"
   ]
  },
  {
   "cell_type": "code",
   "execution_count": null,
   "metadata": {},
   "outputs": [],
   "source": []
  }
 ],
 "metadata": {
  "kernelspec": {
   "display_name": "Python [conda env:base] *",
   "language": "python",
   "name": "conda-base-py"
  },
  "language_info": {
   "codemirror_mode": {
    "name": "ipython",
    "version": 3
   },
   "file_extension": ".py",
   "mimetype": "text/x-python",
   "name": "python",
   "nbconvert_exporter": "python",
   "pygments_lexer": "ipython3",
   "version": "3.12.7"
  }
 },
 "nbformat": 4,
 "nbformat_minor": 4
}
